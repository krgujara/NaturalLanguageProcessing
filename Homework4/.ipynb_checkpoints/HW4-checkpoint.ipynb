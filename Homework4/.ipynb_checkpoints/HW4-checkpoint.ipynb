{
 "cells": [
  {
   "cell_type": "markdown",
   "metadata": {},
   "source": [
    "## Homework 4\n",
    "## Sentiment Analysis of Amazon Product Reviews"
   ]
  },
  {
   "cell_type": "code",
   "execution_count": 75,
   "metadata": {},
   "outputs": [],
   "source": [
    "import nltk\n",
    "import re\n",
    "from nltk.tokenize import sent_tokenize"
   ]
  },
  {
   "cell_type": "markdown",
   "metadata": {},
   "source": [
    "## A Python code that extracts only review texts"
   ]
  },
  {
   "cell_type": "code",
   "execution_count": 76,
   "metadata": {},
   "outputs": [
    {
     "data": {
      "text/plain": [
       "list"
      ]
     },
     "execution_count": 76,
     "metadata": {},
     "output_type": "execute_result"
    }
   ],
   "source": [
    "from nltk.corpus import PlaintextCorpusReader\n",
    "mycorpus = PlaintextCorpusReader('.','clothing_shoes_jewelry.txt')\n",
    "type(mycorpus.fileids())"
   ]
  },
  {
   "cell_type": "code",
   "execution_count": 77,
   "metadata": {},
   "outputs": [],
   "source": [
    "file_id = mycorpus.fileids()\n",
    "file_contents = []"
   ]
  },
  {
   "cell_type": "code",
   "execution_count": 78,
   "metadata": {},
   "outputs": [],
   "source": [
    "file = file_id[0]\n",
    "file_handle = open(file, 'r')\n",
    "file_content = file_handle.read()\n",
    "file_handle.close()"
   ]
  },
  {
   "cell_type": "code",
   "execution_count": 86,
   "metadata": {},
   "outputs": [
    {
     "name": "stdout",
     "output_type": "stream",
     "text": [
      "reviewerID:A1KLRMWW2FWPL4\n",
      "asin:0000031887\n",
      "reviewerName:Amazon Customer \"cameramom\"\n",
      "helpful:[0, 0]\n",
      "reviewText:This is a great tutu and at a really great price. It doesn't look cheap at all. I'm so glad I looked on Amazon and found such an affordable tutu that isn't made poorly. A++\n",
      "overall:5.0\n",
      "summary:Great tutu-  not cheaply made\n",
      "unixReviewTime:1297468800\n",
      "reviewTime:02 12, 2011\n",
      "\n",
      "reviewerID:A2G5TCU2WDFZ65\n",
      "asin:0000031887\n",
      "reviewerName:Amazon Customer\n",
      "helpful:[0, 0]\n",
      "reviewText:I bought this for my 4 yr old daughter for dance class, she wore it today for the first time and the teacher thought it was adorable. I bought this to go with a light blue long sleeve leotard and was happy the colors matched up great. Price was very good too since some of these go for over $15.00 dollars.\n",
      "overall:5.0\n",
      "summary:Very Cute!!\n",
      "unixReviewTime:1358553600\n",
      "reviewTime:01 19, 2013\n",
      "\n",
      "reviewerID:A1RLQXYNCMWRWN\n",
      "asin:0000031887\n",
      "reviewerName:Carola\n",
      "helpful:[0, 0]\n",
      "reviewText:What can I say... my daughters have it in orange, black, white and pink and I am thinking to buy for they the fuccia one. It is a very good way for exalt a dancer outfit: great colors, comfortable, looks great, easy to wear, durables and little girls love it. I think it is a great buy for costumer and play too.\n",
      "overall:5.0\n",
      "summary:I have buy more than one\n",
      "unixReviewTime:1357257600\n",
      "reviewTime:01 4, 2013\n",
      "\n",
      "reviewerID:A8U3FAMSJVHS5\n",
      "asin:0000031887\n",
      "reviewerName:Caromcg\n",
      "helpful:[0, 0]\n",
      "reviewText:We bought several tutus at once, and they are got high reviews. Sturdy and seemingly well-made. The girls have been wearing them regularly, including out to play, and the tutus have stood up well. Fits the 3-yr old & the 5-yr old well. Clearly plenty of room to grow. Only con is that when the kids pull off the tutus, the waste band gets twisted, and an adult has to un-tangle. But this is not difficult.\n",
      "overall:5.0\n",
      "summary:Adorable, Sturdy\n",
      "unixReviewTime:1398556800\n",
      "reviewTime:04 27, 2014\n",
      "\n",
      "reviewerID:A3GEOILWLK86XM\n",
      "asin:0000031887\n",
      "reviewerName:CJ\n",
      "helpful:[0, 0]\n",
      "reviewText:Thank you Halo Heaven great product for Little Girls.  My Great Grand Daughters Love these Tutu's.  Will buy more from this seller.  Made well and cute on the girls.  Thanks for a great product.NEVER BUY FROM DRESS UP DREAMS........I will buy more as long as I don't buy from &#34;Dress Up Dreams&#34;  I never rec'd or order in FL. Only rec'd pink, the purple one was missing.  Company is a rip off.  REFUSES to make good on purchase...... Real creeps.\n",
      "overall:5.0\n",
      "summary:Grammy's Angels Love it\n",
      "unixReviewTime:1394841600\n",
      "reviewTime:03 15, 2014\n",
      "\n",
      "reviewerID:A27UF1MSF3DB2\n",
      "asin:0000031887\n",
      "reviewerName:C-Lo \"Cynthia\"\n",
      "helpful:[0, 0]\n",
      "reviewText:I received this today and I'm not a fan of it but my daughter is I thought it would be puffier as it looks in the pic but it's not and the one they sent me is pink underneath and the waist band is pink which is not what I wanted due to the fact she already had the sandals she was gonna wear with it now I gotta find another pair of sandals,ima just keep it cuz she likes it.\n",
      "overall:4.0\n",
      "summary:It's ok\n",
      "unixReviewTime:1396224000\n",
      "reviewTime:03 31, 2014\n",
      "\n",
      "reviewerID:A16GFPNVF4Y816\n",
      "asin:0000031887\n",
      "reviewerName:design maven\n",
      "helpful:[0, 0]\n",
      "reviewText:Bought this as a backup to the regular ballet outfit my daughter has to wear. So far, she's using it to play out her Cinderella dreams but I am sure we'll be able to use it for a recital sometime soon. The quality is just fine for the price we paid. I was not expecting a designer skirt for this price and got exactly what I paid for.\n",
      "overall:5.0\n",
      "summary:Great for dress-up and for ballet practice\n",
      "unixReviewTime:1399075200\n",
      "reviewTime:05 3, 2014\n",
      "\n",
      "reviewerID:A2M2APVYIB2U6K\n",
      "asin:0000031887\n",
      "reviewerName:Jamie P.\n",
      "helpful:[0, 0]\n",
      "reviewText:Great tutu for a great price. It isn't a &#34;full&#34; or high quality skirt, but it is perfect for my daughter to wear over leggings for her little outfits.\n",
      "overall:5.0\n",
      "summary:Great value\n",
      "unixReviewTime:1356220800\n",
      "reviewTime:12 23, 2012\n",
      "\n",
      "reviewerID:A1NJ71X3YPQNQ9\n",
      "asin:0000031887\n",
      "reviewerName:JBerger\n",
      "helpful:[0, 0]\n",
      "reviewText:My daughter liked this, and it with her costume, but she would have liked it to be a bit fuller.\n",
      "overall:4.0\n",
      "summary:Good\n",
      "unixReviewTime:1384041600\n",
      "reviewTime:11 10, 2013\n",
      "\n",
      "reviewerID:A3EERSWHAI6SO\n",
      "asin:0000031887\n",
      "reviewerName:Jeffrey Hollingshead \"Jillian hollingshead\"\n",
      "helpful:[7, 8]\n",
      "reviewText:For what I paid for two tutus is unbeatable anywhere!  I ordered a pink and turquios and they are vibrant and beautiful! The tutu is very full! Princess style! Not cheaply made! Not cheap materia! Obviously someone made these with love and care! I paid less than 7 bucks for a tutu I and I feel proud of my self for researching to the point of finding gold!Recommend 2-6 years!My daughter is two ! Wears size 4t and this skirt ( one size ) fit perfect and will probaly be able to accommodate her quickly growing waist for some time!\n",
      "overall:5.0\n",
      "summary:WOW !! ..is all I have to say!\n",
      "unixReviewTime:1349568000\n",
      "reviewTime:10 7, 2012\n",
      "\n",
      "reviewerID:AX1QE6IR7CHXM\n",
      "asin:0000031887\n",
      "reviewerName:JJ\n",
      "helpful:[0, 0]\n",
      "reviewText:Wonder my niece wears it every single day, yellow is her favorite color right now an this cute little tutu made he da. It is well built and we hope she gets lots of wear out of it.\n",
      "overall:5.0\n",
      "summary:Wonderful and great shipping.\n",
      "unixReviewTime:1388620800\n",
      "reviewTime:01 2, 2014\n",
      "\n",
      "reviewerID:A2A2WZYLU528RO\n",
      "asin:0000031887\n",
      "reviewerName:Julie Gayler\n",
      "helpful:[0, 0]\n",
      "reviewText:My daughter has worn this skirt almost every day since she received it and it's even been through the washer along with the other clothes.  It's amazing quality!  She fits a 4T and it's just above her knee, and has a little bit of growing room, although I'm not so sure as much as others are saying.  But considering how often she wears it, I'm not worried! ;)\n",
      "overall:5.0\n",
      "summary:Excellent quality!\n",
      "unixReviewTime:1391040000\n",
      "reviewTime:01 30, 2014\n",
      "\n",
      "reviewerID:A391EXIT5TFP72\n",
      "asin:0000031887\n",
      "reviewerName:Lisbeth Starr\n",
      "helpful:[0, 0]\n",
      "reviewText:Purchased this tutu for my granddaughter's first birthday.  It fit nicely with room to grow in.  I'm very please with it and will purchase more in varying colors in the future.\n",
      "overall:5.0\n",
      "summary:Wonderful tutu!\n",
      "unixReviewTime:1321056000\n",
      "reviewTime:11 12, 2011\n",
      "\n",
      "reviewerID:A34ATJR9KFIXL9\n",
      "asin:0000031887\n",
      "reviewerName:Maudy1\n",
      "helpful:[1, 1]\n",
      "reviewText:Full and well stitched.  This tutu is a beautiful purple color that looks just like the picture.  It looks just adorable on our little fairy.\n",
      "overall:5.0\n",
      "summary:Great Tutu\n",
      "unixReviewTime:1361664000\n",
      "reviewTime:02 24, 2013\n",
      "\n",
      "reviewerID:AJ6B83I4YJHYW\n",
      "asin:0000031887\n",
      "reviewerName:M. Davis\n",
      "helpful:[0, 0]\n",
      "reviewText:This was a gift for a two year old and a five year old.  The girls squealed upon opening the box, they grabbed the tutus, put them on, and wore them the rest of the day.  The tutus seem to be well made, and can stand up to handling by little princesses.  I recommend these tutus.\n",
      "overall:5.0\n",
      "summary:Great tutu for little girls!\n",
      "unixReviewTime:1372636800\n",
      "reviewTime:07 1, 2013\n",
      "\n",
      "reviewerID:A26A4KKLAVTMCC\n",
      "asin:0000031887\n",
      "reviewerName:Moonlight\n",
      "helpful:[0, 0]\n",
      "reviewText:My 3yr old loved this tutu skirt in pink! Was hoping to order more in different colors.She had hardly used this,the stitching came apart in 2weeks.now it's lying in her closet..Altogether she wore it like 4-5 times for 20 mins or so.wish the stitching was of better quality to hold up while little ones wear it. Can't recommend.\n",
      "overall:3.0\n",
      "summary:Came apart in 2weeks!\n",
      "unixReviewTime:1395273600\n",
      "reviewTime:03 20, 2014\n",
      "\n",
      "reviewerID:A1MXJVYXE2QU6H\n",
      "asin:0000031887\n",
      "reviewerName:Mother Goose \"WI Grandma\"\n",
      "helpful:[0, 0]\n",
      "reviewText:Perfect for my budding grand daughter ballerina! Beautiful vibrant color.  Fits great and easy to  clean!  I bought several more colors!\n",
      "overall:5.0\n",
      "summary:So cute!\n",
      "unixReviewTime:1367020800\n",
      "reviewTime:04 27, 2013\n",
      "\n",
      "reviewerID:A2XJ13PIXVJFJH\n",
      "asin:0000031887\n",
      "reviewerName:Myra MLH \"Myra MLH\"\n",
      "helpful:[0, 0]\n",
      "reviewText:Never GOT this item - but gave a 1 STAR because the replies from the SUPPLIER was GREAT.They tried to send the item more than once.My $ was refunded in a timely manner too.It was a shame I never got it for my daughter - it would of looked great with her OUTFIT for Dr. Seuss WEEK at school.Most original.Maybe next time.\n",
      "overall:1.0\n",
      "summary:Never GOT IT....\n",
      "unixReviewTime:1399852800\n",
      "reviewTime:05 12, 2014\n",
      "\n",
      "reviewerID:A287XY94U7JDM8\n",
      "asin:0000031887\n",
      "reviewerName:Natasha\n",
      "helpful:[0, 0]\n",
      "reviewText:Nice and puffy tutu skirt. I would recommend this for girls under 10 yr. old.  It will be too short and small for older girls.\n",
      "overall:5.0\n",
      "summary:Nice skirt\n",
      "unixReviewTime:1387843200\n",
      "reviewTime:12 24, 2013\n",
      "\n",
      "reviewerID:A1JR9KKF6UKUWW\n",
      "asin:0000031887\n",
      "reviewerName:Queens Meadow\n",
      "helpful:[0, 0]\n",
      "reviewText:Bought this for my niece as part of her fairy outfit.  She loves it and wears it all the time.  Well made for the price.\n",
      "overall:5.0\n",
      "summary:must have for a fairy princess\n",
      "unixReviewTime:1359504000\n",
      "reviewTime:01 30, 2013\n",
      "\n",
      "reviewerID:A2SX7X8QGQVCJU\n",
      "asin:0000031887\n",
      "reviewerName:Shannon\n",
      "helpful:[0, 0]\n",
      "reviewText:My 4 year old daughter always wants to play dress up. I bought this for her for Christmas and she never wanted to take it off. It is almost a year later and she still has it!! It was well worth the money and has held up this long with nothing wrong with it!! I would recommend it\n",
      "overall:5.0\n",
      "summary:My daughter loved it\n",
      "unixReviewTime:1351036800\n",
      "reviewTime:10 24, 2012\n",
      "\n",
      "reviewerID:A2Q6UWR5PBHTJS\n",
      "asin:0000031887\n",
      "reviewerName:Sylvia \"Sylvia\"\n",
      "helpful:[0, 0]\n",
      "reviewText:Our granddaughters are all very girlie, so when the youngest one received this for Christmas, they all wanted it!  Great color and fit for a 2 year old as well as her aunt who is 30!  I would recommend this tutu for all little girls.\n",
      "overall:5.0\n",
      "summary:Sassy!\n",
      "unixReviewTime:1358553600\n",
      "reviewTime:01 19, 2013\n",
      "\n",
      "reviewerID:AJZPHJR944IBB\n",
      "asin:0000031887\n",
      "reviewerName:V's Mommy in Mass.\n",
      "helpful:[1, 2]\n",
      "reviewText:Prompt delivery, and it is exactly as described.  The only reason I did not give it 5 stars is because I haven't washed it yet- so I don't know how it will hold up... Other than that my little girl LOVES her tutus (we got one in light pink also), especially spinning and running in them :)  She's on the little side, so my concern was that it would be too big, but the fit is perfect!  The elastic waist will expand with her as she grows.\n",
      "overall:4.0\n",
      "summary:Practically Perfect in every way!\n",
      "unixReviewTime:1365552000\n",
      "reviewTime:04 10, 2013\n",
      "\n",
      "reviewerID:A2WNN1DQVL4LH5\n",
      "asin:0123456479\n",
      "reviewerName:Caddycat\n",
      "helpful:[1, 1]\n",
      "reviewText:The minute I saw this my heart skipped a beat. What a nice case to sort my collection. I love all the compartments and the layout too. You will love this color too. If this is a gift do not hesitate. It will please even the most fussy, as I am. The price is fair if you check around as I did. Seems well made too. It is suitable for an adult though. Not meant as a toy. This is for serious jewelry lover's. Buy it.....\n",
      "overall:5.0\n",
      "summary:Breathtaking 5 Stars\n",
      "unixReviewTime:1383782400\n",
      "reviewTime:11 7, 2013\n",
      "\n",
      "reviewerID:A1ZPOCG2ST2CY3\n",
      "asin:0123456479\n",
      "reviewerName:Deedee King\n",
      "helpful:[0, 1]\n",
      "reviewText:Love this Jewelry Box  so well put together holds plendy... Love the pink & looks so nice on my vanity.\n",
      "overall:5.0\n",
      "summary:VERY NICE\n",
      "unixReviewTime:1390089600\n",
      "reviewTime:01 19, 2014\n",
      "\n",
      "reviewerID:A1WDJIFL2F4QJA\n",
      "asin:0123456479\n",
      "reviewerName:Eddie\n",
      "helpful:[1, 2]\n",
      "reviewText:This products is great for anyone with a lot of jewelry my girlfriend has a lot and this gift for her was one of my best ideas! i recommend this to any one with a lot of jewelry\n",
      "overall:5.0\n",
      "summary:Amazing so many compartments\n",
      "unixReviewTime:1348444800\n",
      "reviewTime:09 24, 2012\n",
      "\n",
      "reviewerID:A3RB1JA72Z0TUN\n",
      "asin:0123456479\n",
      "reviewerName:Elena M.\n",
      "helpful:[0, 0]\n",
      "reviewText:I already own this particular Shining Image jewelry box in brown, so this was my second buy. It arrived with some of the leather scratched, even though it looked like I was the first one opening the box. This particular color pink also looked pretty bad in person. The quality of this box seemed lesser than the brown one I own.I returned this pink case for a refund without a problem.  Got another brown Shining Image jewelry case and it's fine!\n",
      "overall:3.0\n",
      "summary:Arrived with a defect\n",
      "unixReviewTime:1387411200\n",
      "reviewTime:12 19, 2013\n",
      "\n",
      "reviewerID:A1JC50F14SLAEV\n",
      "asin:0123456479\n",
      "reviewerName:Mada\n",
      "helpful:[0, 0]\n",
      "reviewText:I wanted to have the title summarize my thoughts if you decide not to read the entire review.  My granddaughter likes the Shining Image Jewelry Box given to her for a birthday gift from Grandma.  I wish the drawers were deeper for holding her many necklaces.  Also, I wish the drawers had a stop, preventing the drawers from tipping contents entirely when trying to remove one piece of jewelry.  My granddaughter is only five years old, so having the background knowledge of knowing when to stop the action of pulling the drawer from the base requires practice.  I, on the other hand, have had lacks of years of practice with jewelry drawers, but also struggle with removing the drawer without spilling the contents.\n",
      "overall:3.0\n",
      "summary:Nice Size But Drawers Are A Concern\n",
      "unixReviewTime:1399852800\n",
      "reviewTime:05 12, 2014\n",
      "\n",
      "reviewerID:A8WD29DKN8ZC3\n",
      "asin:0123456479\n",
      "reviewerName:Shopper22\n",
      "helpful:[0, 0]\n",
      "reviewText:Really nice box, a bit cheaply made. It is made of carboard with pleather. Although the organization for all your jewelry is great, I'm not so sure how it will stand up to my tween daughter's use. Every inch is useable space for jewelry & very compact, which is a nice feature.\n",
      "overall:4.0\n",
      "summary:Great jewelry box\n",
      "unixReviewTime:1388102400\n",
      "reviewTime:12 27, 2013\n",
      "\n",
      "reviewerID:A1F7YU6O5RU432\n",
      "asin:1608299953\n",
      "reviewerName:Angela Streiff\n",
      "helpful:[0, 0]\n",
      "reviewText:Since learning a language from software is not exactly the same as learning a language from going to live in the country itself, I suggest picking up the Rosetta Stone software 1 level at a time, like this French level 1. That way you know if you are able to learn from the software, before investing even more money into it. Since total immersion into another country to learn is not always an option, Rosetta Stone it the next best thing. While a class environment might work better for some, there's not always time for that either. Sometimes there's just enough time on the weekends, or in the evenings after work to get a few hours of studying in. Or maybe you just don't want to sit in a school like classroom, trying to learn from an instructor. That's where Rosetta Stone comes in.Rosetta Stone tries to be more than just a computer program. Instead it's interactive, and is a cross between software and an at-home classroom Spanish lesson. The software comes with a headset and microphone so that while you are learning, you also speak into the headset and respond to questions. The software helps one learn how to pronounce the words and practice what you've learned to help retain it. Unlike a classroom environment, you can work at this at your own pace, which I appreciate. When I took a Spanish class, some of the students flew ahead of me, while the rest of us were just trying to keep up. Rosetta Stone lets a person learn at the pace they learn at (fast or slow) so they don't end up missing anything along the way. I'm more comfortable learning from the program as well, than in front of a group of strangers .While going to France and living there for a while is probably the easiest and fastest way to learn French, Rosetta Stone is the next best thing, and a more realistic option for most people.\n",
      "overall:5.0\n",
      "summary:Suggest getting this 1 level at a time, so you know if you can learn from the program\n",
      "unixReviewTime:1365465600\n",
      "reviewTime:04 9, 2013\n",
      "\n",
      "reviewerID:A3INPLAFCMRI3I\n",
      "asin:1608299953\n",
      "reviewerName:Cheryl\n",
      "helpful:\n"
     ]
    }
   ],
   "source": [
    "print(file_content[:15900])"
   ]
  },
  {
   "cell_type": "code",
   "execution_count": 134,
   "metadata": {},
   "outputs": [],
   "source": [
    "# extract all reviews\n",
    "\n",
    "pword = re.compile('reviewerID:(.*)\\nasin:(.*)\\nreviewerName:(.*)\\nhelpful:(.*)\\nreviewText:(.*)\\n(overall:.*)\\nsummary:(.*)\\nunixReviewTime:(.*)\\nreviewTime:(.*)\\n')\n",
    "reviews = re.findall(pword,file_content)"
   ]
  },
  {
   "cell_type": "code",
   "execution_count": 135,
   "metadata": {},
   "outputs": [
    {
     "data": {
      "text/plain": [
       "2014"
      ]
     },
     "execution_count": 135,
     "metadata": {},
     "output_type": "execute_result"
    }
   ],
   "source": [
    "# extract the year\n",
    "int(reviews[11][8][7:])"
   ]
  },
  {
   "cell_type": "code",
   "execution_count": 162,
   "metadata": {},
   "outputs": [],
   "source": [
    "# reviews_2014 only first 5500 contains the reviews of year 2014\n",
    "reviews_2014 = []\n",
    "counter = 0\n",
    "for i in range(len(reviews)):\n",
    "    year = int(reviews[i][8][7:])\n",
    "    if (year == 2014):\n",
    "        # only [i][4] corresponds to the reviewText field. \n",
    "        reviews_2014.append(reviews[i][4])\n",
    "        counter+=1\n",
    "        if (counter >= 5500):\n",
    "            break\n"
   ]
  },
  {
   "cell_type": "code",
   "execution_count": 163,
   "metadata": {},
   "outputs": [
    {
     "data": {
      "text/plain": [
       "5500"
      ]
     },
     "execution_count": 163,
     "metadata": {},
     "output_type": "execute_result"
    }
   ],
   "source": [
    "len(reviews_2014)"
   ]
  },
  {
   "cell_type": "code",
   "execution_count": 164,
   "metadata": {},
   "outputs": [
    {
     "data": {
      "text/plain": [
       "['We bought several tutus at once, and they are got high reviews. Sturdy and seemingly well-made. The girls have been wearing them regularly, including out to play, and the tutus have stood up well. Fits the 3-yr old & the 5-yr old well. Clearly plenty of room to grow. Only con is that when the kids pull off the tutus, the waste band gets twisted, and an adult has to un-tangle. But this is not difficult.',\n",
       " \"Thank you Halo Heaven great product for Little Girls.  My Great Grand Daughters Love these Tutu's.  Will buy more from this seller.  Made well and cute on the girls.  Thanks for a great product.NEVER BUY FROM DRESS UP DREAMS........I will buy more as long as I don't buy from &#34;Dress Up Dreams&#34;  I never rec'd or order in FL. Only rec'd pink, the purple one was missing.  Company is a rip off.  REFUSES to make good on purchase...... Real creeps.\"]"
      ]
     },
     "execution_count": 164,
     "metadata": {},
     "output_type": "execute_result"
    }
   ],
   "source": [
    "reviews_2014[:2]"
   ]
  },
  {
   "cell_type": "code",
   "execution_count": 165,
   "metadata": {},
   "outputs": [],
   "source": [
    "# Sentence level tokenization\n",
    "sentences=[nltk.sent_tokenize(sent) for sent in reviews_2014]"
   ]
  },
  {
   "cell_type": "code",
   "execution_count": 166,
   "metadata": {},
   "outputs": [
    {
     "data": {
      "text/plain": [
       "[['We bought several tutus at once, and they are got high reviews.',\n",
       "  'Sturdy and seemingly well-made.',\n",
       "  'The girls have been wearing them regularly, including out to play, and the tutus have stood up well.',\n",
       "  'Fits the 3-yr old & the 5-yr old well.',\n",
       "  'Clearly plenty of room to grow.',\n",
       "  'Only con is that when the kids pull off the tutus, the waste band gets twisted, and an adult has to un-tangle.',\n",
       "  'But this is not difficult.'],\n",
       " ['Thank you Halo Heaven great product for Little Girls.',\n",
       "  \"My Great Grand Daughters Love these Tutu's.\",\n",
       "  'Will buy more from this seller.',\n",
       "  'Made well and cute on the girls.',\n",
       "  \"Thanks for a great product.NEVER BUY FROM DRESS UP DREAMS........I will buy more as long as I don't buy from &#34;Dress Up Dreams&#34;  I never rec'd or order in FL.\",\n",
       "  \"Only rec'd pink, the purple one was missing.\",\n",
       "  'Company is a rip off.',\n",
       "  'REFUSES to make good on purchase...... Real creeps.']]"
      ]
     },
     "execution_count": 166,
     "metadata": {},
     "output_type": "execute_result"
    }
   ],
   "source": [
    "sentences[:2]"
   ]
  },
  {
   "cell_type": "code",
   "execution_count": 167,
   "metadata": {},
   "outputs": [],
   "source": [
    "# tokenize each review\n",
    "tokenized_review_sentences = []\n",
    "for each_review in sentences:\n",
    "    # tokenize each review into words by splitting them into different sentences\n",
    "    sent_wordlevel=[nltk.word_tokenize(sent) for sent in each_review]\n",
    "    for each in sent_wordlevel:\n",
    "        tokenized_review_sentences.append(each)"
   ]
  },
  {
   "cell_type": "code",
   "execution_count": 171,
   "metadata": {},
   "outputs": [
    {
     "name": "stdout",
     "output_type": "stream",
     "text": [
      "21629\n",
      "[['We', 'bought', 'several', 'tutus', 'at', 'once', ',', 'and', 'they', 'are', 'got', 'high', 'reviews', '.'], ['Sturdy', 'and', 'seemingly', 'well-made', '.'], ['The', 'girls', 'have', 'been', 'wearing', 'them', 'regularly', ',', 'including', 'out', 'to', 'play', ',', 'and', 'the', 'tutus', 'have', 'stood', 'up', 'well', '.'], ['Fits', 'the', '3-yr', 'old', '&', 'the', '5-yr', 'old', 'well', '.'], ['Clearly', 'plenty', 'of', 'room', 'to', 'grow', '.']]\n"
     ]
    }
   ],
   "source": [
    "print(len(tokenized_review_sentences))\n",
    "print(tokenized_review_sentences[:5])"
   ]
  },
  {
   "cell_type": "markdown",
   "metadata": {},
   "source": [
    "## Sentiment Analysis"
   ]
  },
  {
   "cell_type": "code",
   "execution_count": null,
   "metadata": {},
   "outputs": [],
   "source": []
  }
 ],
 "metadata": {
  "kernelspec": {
   "display_name": "Python 3",
   "language": "python",
   "name": "python3"
  },
  "language_info": {
   "codemirror_mode": {
    "name": "ipython",
    "version": 3
   },
   "file_extension": ".py",
   "mimetype": "text/x-python",
   "name": "python",
   "nbconvert_exporter": "python",
   "pygments_lexer": "ipython3",
   "version": "3.6.4"
  }
 },
 "nbformat": 4,
 "nbformat_minor": 2
}
