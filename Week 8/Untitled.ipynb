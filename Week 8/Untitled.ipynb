{
 "cells": [
  {
   "cell_type": "markdown",
   "metadata": {},
   "source": [
    "\n"
   ]
  },
  {
   "cell_type": "code",
   "execution_count": 1,
   "metadata": {},
   "outputs": [
    {
     "data": {
      "text/plain": [
       "['kind', 'sort', 'form', 'variety']"
      ]
     },
     "execution_count": 1,
     "metadata": {},
     "output_type": "execute_result"
    }
   ],
   "source": [
    "import nltk\n",
    "from nltk.corpus import wordnet as wn \n",
    "wn.synsets('kind')\n",
    "wn.synset('kind.n.01').lemma_names()"
   ]
  },
  {
   "cell_type": "code",
   "execution_count": 8,
   "metadata": {},
   "outputs": [
    {
     "name": "stdout",
     "output_type": "stream",
     "text": [
      "\n",
      "synset : Synset('kind.n.01')\n",
      "lemma names ['kind', 'sort', 'form', 'variety']\n",
      "defination a category of things distinguished by some common characteristic or quality\n",
      "examples ['sculpture is a form of art', 'what kinds of desserts are there?']\n",
      "\n",
      "synset : Synset('kind.a.01')\n",
      "lemma names ['kind']\n",
      "defination having or showing a tender and considerate and helpful nature; used especially of persons and their behavior\n",
      "examples ['kind to sick patients', 'a kind master', 'kind words showing understanding and sympathy', 'thanked her for her kind letter']\n",
      "\n",
      "synset : Synset('kind.s.02')\n",
      "lemma names ['kind', 'genial']\n",
      "defination agreeable, conducive to comfort\n",
      "examples ['a dry climate kind to asthmatics', 'the genial sunshine', 'hot summer pavements are anything but kind to the feet']\n",
      "\n",
      "synset : Synset('kind.s.03')\n",
      "lemma names ['kind', 'tolerant']\n",
      "defination tolerant and forgiving under provocation\n",
      "examples ['our neighbor was very kind about the window our son broke']\n"
     ]
    }
   ],
   "source": [
    "#1. Show all the synsets of that word, their lemma names, definitions, and examples.\n",
    "\n",
    "for synset in wn.synsets('kind'):\n",
    "    print()\n",
    "    print('synset :',synset)\n",
    "    print('lemma names', synset.lemma_names())\n",
    "    print('defination',synset.definition())\n",
    "    print('examples', synset.examples())\n",
    "    "
   ]
  },
  {
   "cell_type": "code",
   "execution_count": 11,
   "metadata": {},
   "outputs": [
    {
     "data": {
      "text/plain": [
       "[Synset('category.n.02')]"
      ]
     },
     "execution_count": 11,
     "metadata": {},
     "output_type": "execute_result"
    }
   ],
   "source": [
    "# 2. Pick one synset of the word and show all of its direct hypernyms. \n",
    "\n",
    "kind = wn.synset('kind.n.01')\n",
    "kind.hypernyms()"
   ]
  },
  {
   "cell_type": "code",
   "execution_count": 16,
   "metadata": {},
   "outputs": [
    {
     "name": "stdout",
     "output_type": "stream",
     "text": [
      "number of paths 1\n"
     ]
    },
    {
     "data": {
      "text/plain": [
       "[[Synset('entity.n.01'),\n",
       "  Synset('abstraction.n.06'),\n",
       "  Synset('psychological_feature.n.01'),\n",
       "  Synset('cognition.n.01'),\n",
       "  Synset('content.n.05'),\n",
       "  Synset('idea.n.01'),\n",
       "  Synset('concept.n.01'),\n",
       "  Synset('category.n.02'),\n",
       "  Synset('kind.n.01')]]"
      ]
     },
     "execution_count": 16,
     "metadata": {},
     "output_type": "execute_result"
    }
   ],
   "source": [
    "# 3. Show the hypernym paths between the top of the hierarchy and that word sense.\n",
    "\n",
    "paths = kind.hypernym_paths()\n",
    "print('number of \n",
    "      paths',len(paths))\n",
    "paths"
   ]
  },
  {
   "cell_type": "code",
   "execution_count": 32,
   "metadata": {},
   "outputs": [
    {
     "name": "stdout",
     "output_type": "stream",
     "text": [
      "[Synset('abstraction.n.06'), Synset('physical_entity.n.01'), Synset('thing.n.08')]\n",
      "[]\n",
      "[]\n",
      "abstraction Synset('kind.n.01')\n",
      "path similarity 0.1111111111111111\n",
      "1.4403615823901665\n"
     ]
    }
   ],
   "source": [
    "# 4.  See what other relations are defined for your word and show one or more of them using NLTK functions.\n",
    "print(kind.hyponyms())\n",
    "print(kind.part_meronyms())\n",
    "print(kind.member_holonyms())\n",
    "\n",
    "kind = wn.synset('entity.n.01')\n",
    "\n",
    "abstraction = wn.synset('kind.n.01')\n",
    "print('abstraction',abstraction)\n",
    "print('path similarity',kind.path_similarity(abstraction))\n",
    "print(kind.lch_similarity(abstraction))\n"
   ]
  },
  {
   "cell_type": "code",
   "execution_count": null,
   "metadata": {},
   "outputs": [],
   "source": []
  }
 ],
 "metadata": {
  "kernelspec": {
   "display_name": "Python 3",
   "language": "python",
   "name": "python3"
  },
  "language_info": {
   "codemirror_mode": {
    "name": "ipython",
    "version": 3
   },
   "file_extension": ".py",
   "mimetype": "text/x-python",
   "name": "python",
   "nbconvert_exporter": "python",
   "pygments_lexer": "ipython3",
   "version": "3.6.4"
  }
 },
 "nbformat": 4,
 "nbformat_minor": 2
}
