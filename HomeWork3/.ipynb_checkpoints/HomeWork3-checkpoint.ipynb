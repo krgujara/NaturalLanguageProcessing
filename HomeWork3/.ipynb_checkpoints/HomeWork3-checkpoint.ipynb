{
 "cells": [
  {
   "cell_type": "code",
   "execution_count": 321,
   "metadata": {},
   "outputs": [],
   "source": [
    "# Context Free Grammar to parse 4 given sentences\n",
    "\n",
    "import nltk\n",
    "from nltk import FreqDist\n",
    "\n",
    "grammar = nltk.CFG.fromstring(\"\"\"\n",
    "S -> NP VP | VP\n",
    "NP -> PRP | DT ADJP NN | NN | PRP NNS | CD NNS\n",
    "VP -> VBD NP NP | MD VP | VB ADVP | VBP RB ADVP ADJP | VBD S | TO VP | VB NP ADVP\n",
    "ADVP -> RB | NP RB\n",
    "NNS -> \"kids\" | \"days\"\n",
    "RB -> \"now\" | \"always\" | \"not\" | \"ago\"\n",
    "VB -> \"go\" | \"visit\"\n",
    "MD -> \"may\"\n",
    "ADJP -> JJ \n",
    "PRP -> \"We\" |\"You\" | \"Their\" | \"She\" | \"me\"\n",
    "VBD -> \"had\" | \"came\"\n",
    "CD -> \"two\"\n",
    "VBP -> \"are\"\n",
    "DT -> \"a\"\n",
    "TO -> \"to\"\n",
    "JJ -> \"nice\" | \"naive\"\n",
    "NN -> \"party\" | \"yesterday\"\n",
    "\"\"\")"
   ]
  },
  {
   "cell_type": "code",
   "execution_count": 291,
   "metadata": {},
   "outputs": [
    {
     "name": "stdout",
     "output_type": "stream",
     "text": [
      "['We', 'had', 'a', 'nice', 'party', 'yesterday']\n",
      "(S\n",
      "  (NP (PRP We))\n",
      "  (VP\n",
      "    (VBD had)\n",
      "    (NP (DT a) (ADJP (JJ nice)) (NN party))\n",
      "    (NP (NN yesterday))))\n"
     ]
    }
   ],
   "source": [
    "# parsing first sentence - \"We had a nice party yesterday\"\n",
    "rd_parser = nltk.RecursiveDescentParser(grammar)\n",
    "senttext = \"We had a nice party yesterday\"\n",
    "sentlist = senttext.split()\n",
    "print(sentlist)\n",
    "\n",
    "trees = rd_parser.parse(sentlist)\n",
    "trees\n",
    "treelist = list(trees)\n",
    "\n",
    "type(treelist[0]) \n",
    "for tree in treelist:\n",
    "    print (tree)\n"
   ]
  },
  {
   "cell_type": "code",
   "execution_count": 292,
   "metadata": {},
   "outputs": [
    {
     "name": "stdout",
     "output_type": "stream",
     "text": [
      "['She', 'came', 'to', 'visit', 'me', 'two', 'days', 'ago']\n",
      "(S\n",
      "  (NP (PRP She))\n",
      "  (VP\n",
      "    (VBD came)\n",
      "    (S\n",
      "      (VP\n",
      "        (TO to)\n",
      "        (VP\n",
      "          (VB visit)\n",
      "          (NP (PRP me))\n",
      "          (ADVP (NP (CD two) (NNS days)) (RB ago)))))))\n"
     ]
    }
   ],
   "source": [
    "# parsing second sentence - \"She came to visit me two days ago\n",
    "rd_parser = nltk.RecursiveDescentParser(grammar)\n",
    "senttext = \"She came to visit me two days ago\"\n",
    "sentlist = senttext.split()\n",
    "print(sentlist)\n",
    "\n",
    "trees = rd_parser.parse(sentlist)\n",
    "trees\n",
    "treelist = list(trees)\n",
    "\n",
    "type(treelist[0]) \n",
    "for tree in treelist:\n",
    "    print (tree)"
   ]
  },
  {
   "cell_type": "code",
   "execution_count": 293,
   "metadata": {},
   "outputs": [
    {
     "name": "stdout",
     "output_type": "stream",
     "text": [
      "['You', 'may', 'go', 'now']\n",
      "(S (NP (PRP You)) (VP (MD may) (VP (VB go) (ADVP (RB now)))))\n"
     ]
    }
   ],
   "source": [
    "# parsing third sentence - \"You may go now\"\n",
    "rd_parser = nltk.RecursiveDescentParser(grammar)\n",
    "senttext = \"You may go now\"\n",
    "sentlist = senttext.split()\n",
    "print(sentlist)\n",
    "\n",
    "trees = rd_parser.parse(sentlist)\n",
    "trees\n",
    "treelist = list(trees)\n",
    "\n",
    "type(treelist[0]) \n",
    "for tree in treelist:\n",
    "    print (tree)"
   ]
  },
  {
   "cell_type": "code",
   "execution_count": 340,
   "metadata": {},
   "outputs": [
    {
     "name": "stdout",
     "output_type": "stream",
     "text": [
      "['Their', 'kids', 'are', 'not', 'always', 'naive']\n",
      "(S\n",
      "  (NP (PRP Their) (NNS kids))\n",
      "  (VP (VBP are) (RB not) (ADVP (RB always)) (ADJP (JJ naive))))\n"
     ]
    }
   ],
   "source": [
    "# parsing fourth sentence - \"Their kids are not always naive\"\n",
    "rd_parser = nltk.RecursiveDescentParser(grammar)\n",
    "senttext = \"Their kids are not always naive\"\n",
    "sentlist = senttext.split()\n",
    "print(sentlist)\n",
    "\n",
    "trees = rd_parser.parse(sentlist)\n",
    "trees\n",
    "treelist = list(trees)\n",
    "\n",
    "type(treelist[0]) \n",
    "for tree in treelist:\n",
    "    print (tree)"
   ]
  },
  {
   "cell_type": "code",
   "execution_count": 341,
   "metadata": {},
   "outputs": [
    {
     "name": "stdout",
     "output_type": "stream",
     "text": [
      "['She', 'may', 'visit', 'now']\n",
      "(S (NP (PRP She)) (VP (MD may) (VP (VB visit) (ADVP (RB now)))))\n"
     ]
    }
   ],
   "source": [
    "rd_parser = nltk.RecursiveDescentParser(grammar)\n",
    "senttext = \"She may visit now\"\n",
    "sentlist = senttext.split()\n",
    "print(sentlist)\n",
    "\n",
    "trees = rd_parser.parse(sentlist)\n",
    "trees\n",
    "treelist = list(trees)\n",
    "\n",
    "type(treelist[0]) \n",
    "for tree in treelist:\n",
    "    print (tree)"
   ]
  },
  {
   "cell_type": "code",
   "execution_count": 342,
   "metadata": {},
   "outputs": [
    {
     "name": "stdout",
     "output_type": "stream",
     "text": [
      "['You', 'are', 'not', 'always', 'nice']\n",
      "(S\n",
      "  (NP (PRP You))\n",
      "  (VP (VBP are) (RB not) (ADVP (RB always)) (ADJP (JJ nice))))\n"
     ]
    }
   ],
   "source": [
    "rd_parser = nltk.RecursiveDescentParser(grammar)\n",
    "senttext = \"You are not always nice\"\n",
    "sentlist = senttext.split()\n",
    "print(sentlist)\n",
    "\n",
    "trees = rd_parser.parse(sentlist)\n",
    "trees\n",
    "treelist = list(trees)\n",
    "\n",
    "type(treelist[0]) \n",
    "for tree in treelist:\n",
    "    print (tree)"
   ]
  },
  {
   "cell_type": "code",
   "execution_count": 343,
   "metadata": {},
   "outputs": [
    {
     "name": "stdout",
     "output_type": "stream",
     "text": [
      "['She', 'came', 'two', 'kids', 'yesterday']\n",
      "(S\n",
      "  (NP (PRP She))\n",
      "  (VP (VBD came) (NP (CD two) (NNS kids)) (NP (NN yesterday))))\n"
     ]
    }
   ],
   "source": [
    "rd_parser = nltk.RecursiveDescentParser(grammar)\n",
    "senttext = \"She came two kids yesterday\"\n",
    "sentlist = senttext.split()\n",
    "print(sentlist)\n",
    "\n",
    "trees = rd_parser.parse(sentlist)\n",
    "trees\n",
    "treelist = list(trees)\n",
    "\n",
    "type(treelist[0]) \n",
    "for tree in treelist:\n",
    "    print (tree)"
   ]
  },
  {
   "cell_type": "code",
   "execution_count": 331,
   "metadata": {},
   "outputs": [
    {
     "data": {
      "text/plain": [
       "FreqDist({'She': 1,\n",
       "          'Their': 1,\n",
       "          'We': 1,\n",
       "          'You': 1,\n",
       "          'a': 1,\n",
       "          'ago': 1,\n",
       "          'always': 1,\n",
       "          'are': 1,\n",
       "          'came': 1,\n",
       "          'days': 1,\n",
       "          'go': 1,\n",
       "          'had': 1,\n",
       "          'kids': 1,\n",
       "          'may': 1,\n",
       "          'me': 1,\n",
       "          'naive': 1,\n",
       "          'nice': 1,\n",
       "          'not': 1,\n",
       "          'now': 1,\n",
       "          'party': 1,\n",
       "          'to': 1,\n",
       "          'two': 1,\n",
       "          'visit': 1,\n",
       "          'yesterday': 1})"
      ]
     },
     "execution_count": 331,
     "metadata": {},
     "output_type": "execute_result"
    }
   ],
   "source": [
    "# Creating a mini corpus of 4 given sentences to get the probablistic \n",
    "# frequency of each given word\n",
    "corpus = \"We had a nice party yesterday She came to visit me two days ago You may go now Their kids are not always naive\"\n",
    "corpus_words = corpus.split()\n",
    "fdist = FreqDist(corpus_words)\n",
    "# fdist for each pair is 1 which means that each word occurs with the equal probablity\n",
    "fdist"
   ]
  },
  {
   "cell_type": "code",
   "execution_count": 334,
   "metadata": {},
   "outputs": [],
   "source": [
    "# Probablistic Grammar\n",
    "# The probabilities for each non-terminal symbol must add up to 1\n",
    "\n",
    "prob_grammar = nltk.PCFG.fromstring(\"\"\"\n",
    "S -> NP VP[0.9] | VP [0.1]\n",
    "NP -> PRP [0.5]| DT ADJP NN [0.2]| NN [0.1]| PRP NNS [0.1]| CD NNS[0.1]\n",
    "VP -> VBD NP NP [0.3]| MD VP [0.2]| VB ADVP[0.1] | VBP RB ADVP ADJP[0.1] | VBD S [0.1]| TO VP[0.1] | VB NP ADVP[0.1]\n",
    "ADVP -> RB [0.5]| NP RB[0.5]\n",
    "NNS -> \"kids\"[0.5] | \"days\"[0.5]\n",
    "RB -> \"now\"[0.25] | \"always\"[0.25] | \"not\"[0.25] | \"ago\"[0.25]\n",
    "VB -> \"go\"[0.5] | \"visit\"[0.5]\n",
    "MD -> \"may\"[1.0]\n",
    "ADJP -> JJ [1.0]\n",
    "PRP -> \"We\" [0.2]|\"You\"[0.2] | \"Their\"[0.2] | \"She\"[0.2] | \"me\"[0.2]\n",
    "VBD -> \"had\"[0.5] | \"came\"[0.5]\n",
    "CD -> \"two\"[1.0]\n",
    "VBP -> \"are\"[1.0]\n",
    "DT -> \"a\"[1.0]\n",
    "TO -> \"to\"[1.0]\n",
    "JJ -> \"nice\" [0.5]| \"naive\"[0.5]\n",
    "NN -> \"party\" [0.5]| \"yesterday\"[0.5]\n",
    "\"\"\")"
   ]
  },
  {
   "cell_type": "code",
   "execution_count": 335,
   "metadata": {},
   "outputs": [],
   "source": [
    "viterbi_parser = nltk.ViterbiParser(prob_grammar)"
   ]
  },
  {
   "cell_type": "code",
   "execution_count": 336,
   "metadata": {},
   "outputs": [
    {
     "name": "stdout",
     "output_type": "stream",
     "text": [
      "(S\n",
      "  (NP (PRP We))\n",
      "  (VP\n",
      "    (VBD had)\n",
      "    (NP (DT a) (ADJP (JJ nice)) (NN party))\n",
      "    (NP (NN yesterday)))) (p=3.375e-05)\n"
     ]
    }
   ],
   "source": [
    "for tree in viterbi_parser.parse(['We' ,'had','a', 'nice', 'party', 'yesterday']):\n",
    "    print (tree)"
   ]
  },
  {
   "cell_type": "code",
   "execution_count": 337,
   "metadata": {},
   "outputs": [
    {
     "name": "stdout",
     "output_type": "stream",
     "text": [
      "(S\n",
      "  (NP (PRP She))\n",
      "  (VP\n",
      "    (VBD came)\n",
      "    (S\n",
      "      (VP\n",
      "        (TO to)\n",
      "        (VP\n",
      "          (VB visit)\n",
      "          (NP (PRP me))\n",
      "          (ADVP (NP (CD two) (NNS days)) (RB ago))))))) (p=1.40625e-09)\n"
     ]
    }
   ],
   "source": [
    "for tree in viterbi_parser.parse(['She' ,'came', 'to', 'visit', 'me' ,'two' ,'days', 'ago']):\n",
    "    print (tree)"
   ]
  },
  {
   "cell_type": "code",
   "execution_count": 338,
   "metadata": {},
   "outputs": [
    {
     "name": "stdout",
     "output_type": "stream",
     "text": [
      "(S\n",
      "  (NP (PRP You))\n",
      "  (VP (MD may) (VP (VB go) (ADVP (RB now))))) (p=0.0001125)\n"
     ]
    }
   ],
   "source": [
    "for tree in viterbi_parser.parse(['You' ,'may', 'go' ,'now']):\n",
    "    print (tree)"
   ]
  },
  {
   "cell_type": "code",
   "execution_count": 339,
   "metadata": {},
   "outputs": [
    {
     "name": "stdout",
     "output_type": "stream",
     "text": [
      "(S\n",
      "  (NP (PRP Their) (NNS kids))\n",
      "  (VP\n",
      "    (VBP are)\n",
      "    (RB not)\n",
      "    (ADVP (RB always))\n",
      "    (ADJP (JJ naive)))) (p=1.40625e-05)\n"
     ]
    }
   ],
   "source": [
    "for tree in viterbi_parser.parse(['Their', 'kids', 'are', 'not' ,'always', 'naive']):\n",
    "    print (tree)"
   ]
  }
 ],
 "metadata": {
  "kernelspec": {
   "display_name": "Python 3",
   "language": "python",
   "name": "python3"
  },
  "language_info": {
   "codemirror_mode": {
    "name": "ipython",
    "version": 3
   },
   "file_extension": ".py",
   "mimetype": "text/x-python",
   "name": "python",
   "nbconvert_exporter": "python",
   "pygments_lexer": "ipython3",
   "version": "3.6.4"
  }
 },
 "nbformat": 4,
 "nbformat_minor": 2
}
